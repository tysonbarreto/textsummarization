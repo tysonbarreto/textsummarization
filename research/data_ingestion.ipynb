{
 "cells": [
  {
   "cell_type": "code",
   "execution_count": 1,
   "metadata": {},
   "outputs": [],
   "source": [
    "import os,sys\n",
    "## go to the main project directory\n",
    "os.chdir(\"..\")"
   ]
  },
  {
   "cell_type": "code",
   "execution_count": 2,
   "metadata": {},
   "outputs": [],
   "source": [
    "from dataclasses import dataclass, field\n",
    "from pathlib import Path\n",
    "from box import ConfigBox\n",
    "import zipfile\n",
    "from src.textsummarization.logger import Logger\n",
    "from src.textsummarization.exception import TSException\n",
    "\n",
    "\n",
    "\n",
    "logger = Logger()\n",
    "\n",
    "@dataclass(frozen=True)\n",
    "class DataIngestionConfig:\n",
    "    root_dir: Path\n",
    "    source_dir: Path\n",
    "    file_name: str"
   ]
  },
  {
   "cell_type": "code",
   "execution_count": 3,
   "metadata": {},
   "outputs": [],
   "source": [
    "from src.textsummarization.constants import *\n",
    "from src.textsummarization.utils import read_yaml, create_directories, get_size"
   ]
  },
  {
   "cell_type": "code",
   "execution_count": 4,
   "metadata": {},
   "outputs": [],
   "source": [
    "class ConfigurationManager:\n",
    "\n",
    "    def __init__(self, config_file_path: Path = CONFIG_FILE_PATH, params_file_path: Path = PARAMS_FILE_PATH):\n",
    "        self.config = read_yaml(config_file_path, return_configbox=True)\n",
    "        self.params = read_yaml(params_file_path, return_configbox=True)\n",
    "        create_directories([self.config.artifacts_root])\n",
    "   \n",
    "    def get_data_ingestion_config(self)->DataIngestionConfig:\n",
    "        config = self.config.data_ingestion\n",
    "        create_directories([config.root_dir, config.source_dir])\n",
    "        logger.info(f\"<<<< {config.source_dir} intialized to work with datasets... >>>>\")\n",
    "        return DataIngestionConfig(\n",
    "            root_dir = config.root_dir,\n",
    "            source_dir = config.source_dir,\n",
    "            file_name = config.file_name\n",
    "        )\n",
    "    \n",
    "    "
   ]
  },
  {
   "cell_type": "code",
   "execution_count": 5,
   "metadata": {},
   "outputs": [],
   "source": [
    "class DataIngestion:\n",
    "\n",
    "    def __init__(self, config:DataIngestionConfig):\n",
    "        self.config = config\n",
    "\n",
    "    def extract_zip_file(self, file_name:str):\n",
    "        try:\n",
    "            unzip_path = os.path.join(self.config.source_dir, file_name.split('.zip')[0])\n",
    "            with zipfile.ZipFile(unzip_path, 'r') as handle:\n",
    "                os.makedirs(unzip_path, exist_ok=True)\n",
    "                handle.extractall(unzip_path)\n",
    "                logger.info(f\"{file_name} has been unzipped in path {unzip_path}\")\n",
    "        except Exception as e:\n",
    "            logger.info(TSException(e,sys))\n",
    "            raise TSException(e,sys)"
   ]
  },
  {
   "cell_type": "code",
   "execution_count": 11,
   "metadata": {},
   "outputs": [
    {
     "name": "stdout",
     "output_type": "stream",
     "text": [
      "[ 2024-12-27 16:43:45,374 ] 18 TextSummarizer - INFO - config.yml has been loaded successfully.\n",
      "[ 2024-12-27 16:43:45,378 ] 18 TextSummarizer - INFO - params.yml has been loaded successfully.\n",
      "[ 2024-12-27 16:43:45,381 ] 11 TextSummarizer - INFO - <<<< data/datasets intialized to work with datasets... >>>>\n",
      "[ 2024-12-27 16:43:45,384 ] 10 TextSummarizer - ERROR - Error occured in python script name C:\\Users\\ict-tyson\\AppData\\Local\\Temp\\ipykernel_2632\\593951052.py line number 8 error message Please ensure dataset file_name is provided in config.yml and dataset itself is available in data/datasets directory\n"
     ]
    },
    {
     "ename": "TSException",
     "evalue": "Error occured in python script name C:\\Users\\ict-tyson\\AppData\\Local\\Temp\\ipykernel_2632\\593951052.py line number 8 error message Please ensure dataset file_name is provided in config.yml and dataset itself is available in data/datasets directory",
     "output_type": "error",
     "traceback": [
      "\u001b[1;31m---------------------------------------------------------------------------\u001b[0m",
      "\u001b[1;31mFileNotFoundError\u001b[0m                         Traceback (most recent call last)",
      "Cell \u001b[1;32mIn[11], line 8\u001b[0m\n\u001b[0;32m      7\u001b[0m     \u001b[38;5;28;01melif\u001b[39;00m data_ingestion_config\u001b[38;5;241m.\u001b[39mfile_name \u001b[38;5;129;01min\u001b[39;00m [\u001b[38;5;124m'\u001b[39m\u001b[38;5;124m'\u001b[39m,\u001b[38;5;124m'\u001b[39m\u001b[38;5;124m \u001b[39m\u001b[38;5;124m'\u001b[39m,\u001b[38;5;28;01mNone\u001b[39;00m]:\n\u001b[1;32m----> 8\u001b[0m         \u001b[38;5;28;01mraise\u001b[39;00m \u001b[38;5;167;01mFileNotFoundError\u001b[39;00m(\u001b[38;5;124m'\u001b[39m\u001b[38;5;124mPlease ensure dataset file_name is provided in config.yml and dataset itself is available in data/datasets directory\u001b[39m\u001b[38;5;124m'\u001b[39m)\n\u001b[0;32m      9\u001b[0m \u001b[38;5;28;01mexcept\u001b[39;00m \u001b[38;5;167;01mException\u001b[39;00m \u001b[38;5;28;01mas\u001b[39;00m e:\n",
      "\u001b[1;31mFileNotFoundError\u001b[0m: Please ensure dataset file_name is provided in config.yml and dataset itself is available in data/datasets directory",
      "\nDuring handling of the above exception, another exception occurred:\n",
      "\u001b[1;31mTSException\u001b[0m                               Traceback (most recent call last)",
      "Cell \u001b[1;32mIn[11], line 11\u001b[0m\n\u001b[0;32m      9\u001b[0m \u001b[38;5;28;01mexcept\u001b[39;00m \u001b[38;5;167;01mException\u001b[39;00m \u001b[38;5;28;01mas\u001b[39;00m e:\n\u001b[0;32m     10\u001b[0m     logger\u001b[38;5;241m.\u001b[39merror(TSException(e,sys))\n\u001b[1;32m---> 11\u001b[0m     \u001b[38;5;28;01mraise\u001b[39;00m TSException(e,sys)\n",
      "\u001b[1;31mTSException\u001b[0m: Error occured in python script name C:\\Users\\ict-tyson\\AppData\\Local\\Temp\\ipykernel_2632\\593951052.py line number 8 error message Please ensure dataset file_name is provided in config.yml and dataset itself is available in data/datasets directory"
     ]
    }
   ],
   "source": [
    "## Pipeline\n",
    "try:\n",
    "    config = ConfigurationManager()\n",
    "    data_ingestion_config = config.get_data_ingestion_config()\n",
    "    if data_ingestion_config.file_name.endswith('.zip'):\n",
    "        DataIngestion(data_ingestion_config).extract_zip_file(data_ingestion_config.file_name)\n",
    "    elif data_ingestion_config.file_name in ['',' ',None]:\n",
    "        raise FileNotFoundError('Please ensure dataset file_name is provided in config.yml and dataset itself is available in data/datasets directory')\n",
    "except Exception as e:\n",
    "    logger.error(TSException(e,sys))\n",
    "    raise TSException(e,sys)\n",
    "\n"
   ]
  },
  {
   "cell_type": "code",
   "execution_count": null,
   "metadata": {},
   "outputs": [],
   "source": []
  }
 ],
 "metadata": {
  "kernelspec": {
   "display_name": ".venv",
   "language": "python",
   "name": "python3"
  },
  "language_info": {
   "codemirror_mode": {
    "name": "ipython",
    "version": 3
   },
   "file_extension": ".py",
   "mimetype": "text/x-python",
   "name": "python",
   "nbconvert_exporter": "python",
   "pygments_lexer": "ipython3",
   "version": "3.12.7"
  }
 },
 "nbformat": 4,
 "nbformat_minor": 2
}
